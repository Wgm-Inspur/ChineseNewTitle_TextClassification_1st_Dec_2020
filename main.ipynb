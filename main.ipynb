{
 "cells": [
  {
   "cell_type": "markdown",
   "metadata": {
    "collapsed": false
   },
   "source": [
    "# **常规赛：中文新闻文本标题分类**"
   ]
  },
  {
   "cell_type": "markdown",
   "metadata": {
    "collapsed": false
   },
   "source": [
    "# 一.方案介绍\n",
    "\n",
    "## 1.1 赛题简介：\n",
    "\n",
    "文本分类是借助计算机对文本集(或其他实体或物件)按照一定的分类体系或标准进行自动分类标记。本次比赛为新闻标题文本分类 ，选手需要根据提供的新闻标题文本和类别标签训练一个新闻分类模型，然后对测试集的新闻标题文本进行分类，评价指标上使用Accuracy = 分类正确数量 / 需要分类总数量。同时本次参赛选手需使用飞桨框架和飞桨文本领域核心开发库PaddleNLP，PaddleNLP具备简洁易用的文本领域全流程API、多场景的应用示例、非常丰富的预训练模型，深度适配飞桨框架2.x版本。\n",
    "\n",
    "比赛传送门：[常规赛：中文新闻文本标题分类](https://aistudio.baidu.com/aistudio/competition/detail/107)\n",
    "\n",
    "## 1.2 数据介绍：\n",
    "\n",
    "THUCNews是根据新浪新闻RSS订阅频道2005~2011年间的历史数据筛选过滤生成，包含74万篇新闻文档（2.19 GB），均为UTF-8纯文本格式。本次比赛数据集在原始新浪新闻分类体系的基础上，重新整合划分出14个候选分类类别：财经、彩票、房产、股票、家居、教育、科技、社会、时尚、时政、体育、星座、游戏、娱乐。提供训练数据共832471条。\n",
    "\n",
    "比赛提供数据集的格式：训练集和验证集格式：原文标题+\\t+标签，测试集格式：原文标题。\n",
    "\n",
    "## 1.3 模型思路：\n",
    "\n",
    "赛题是比较常规的短文本分类任务，在PaddleNLP框架下，首先通过微调9种预训练模型来训练与优化新闻标题14分类模型，然后通过集成学习（相对投票法、分值最大法等）融合不同模型的处理结果，最后分析结果文件生成伪标签，迭代扩充训练集规模。\n",
    "\n",
    "由于预训练模型运行消耗的内存资源较多，所以运行时需要选择至尊版的GPU环境！若显存不足注意适当改小下batchsize！\n",
    "\n",
    "BERT前置知识补充：[【原理】经典的预训练模型-BERT](https://aistudio.baidu.com/aistudio/projectdetail/2297740)\n",
    "\n",
    "![](https://ai-studio-static-online.cdn.bcebos.com/adafc232c53f49258d410e68e3863f1de6747547a9d34ca6b6bf8f4891f4621b)\n",
    "\n",
    "![](https://ai-studio-static-online.cdn.bcebos.com/b3c5b8ca36e84dcda5a9f1b35b1c6123caf703a1d5b34e1db841bcfdeac2d0d5)"
   ]
  },
  {
   "cell_type": "markdown",
   "metadata": {
    "collapsed": false
   },
   "source": [
    "# 二.数据读取与分析"
   ]
  },
  {
   "cell_type": "code",
   "execution_count": 2,
   "metadata": {
    "collapsed": false
   },
   "outputs": [
    {
     "name": "stdout",
     "output_type": "stream",
     "text": [
      "/home/aistudio/dataset\n"
     ]
    }
   ],
   "source": [
    "# 进入比赛数据集存放目录\r\n",
    "%cd /home/aistudio/dataset/"
   ]
  },
  {
   "cell_type": "code",
   "execution_count": 3,
   "metadata": {
    "collapsed": false
   },
   "outputs": [],
   "source": [
    "# 使用pandas读取数据集\r\n",
    "import pandas as pd\r\n",
    "train = pd.read_table('train.txt', sep='\\t',header=None)  # 训练集\r\n",
    "dev = pd.read_table('dev.txt', sep='\\t',header=None)      # 验证集（官方已经划分的）\r\n",
    "test = pd.read_table('test.txt', sep='\\t',header=None)    # 测试集"
   ]
  },
  {
   "cell_type": "code",
   "execution_count": 5,
   "metadata": {
    "collapsed": false
   },
   "outputs": [],
   "source": [
    "# 对数据集手动添加列名\r\n",
    "train.columns = [\"text_a\",'label']\r\n",
    "dev.columns = [\"text_a\",'label']\r\n",
    "test.columns = [\"text_a\"]"
   ]
  },
  {
   "cell_type": "code",
   "execution_count": 6,
   "metadata": {
    "collapsed": false
   },
   "outputs": [
    {
     "name": "stdout",
     "output_type": "stream",
     "text": [
      "['科技' '体育' '时政' '股票' '娱乐' '教育' '家居' '财经' '房产' '社会' '游戏' '彩票' '星座' '时尚']\n",
      "['科技', '体育', '时政', '股票', '娱乐', '教育', '家居', '财经', '房产', '社会', '游戏', '彩票', '星座', '时尚']\n"
     ]
    }
   ],
   "source": [
    "# 拼接训练和验证集，进行统计分析\r\n",
    "total = pd.concat([train,dev],axis=0)\r\n",
    "print(total.label.unique())\r\n",
    "print(total.label.unique().tolist())"
   ]
  },
  {
   "cell_type": "code",
   "execution_count": 7,
   "metadata": {
    "collapsed": false
   },
   "outputs": [
    {
     "name": "stdout",
     "output_type": "stream",
     "text": [
      "不同类别的标签数量和占比如下：\n",
      "    ID   Count     Ratio\n",
      "科技   0  162245  0.194874\n",
      "体育   1  130982  0.157401\n",
      "时政   2   62867  0.075455\n",
      "股票   3  153949  0.184670\n",
      "娱乐   4   92228  0.110792\n",
      "教育   5   41680  0.050159\n",
      "家居   6   32363  0.038976\n",
      "财经   7   36963  0.044372\n",
      "房产   8   19922  0.023981\n",
      "社会   9   50541  0.060820\n",
      "游戏  10   24283  0.029152\n",
      "彩票  11    7598  0.009077\n",
      "星座  12    3515  0.004281\n",
      "时尚  13   13335  0.015990\n"
     ]
    }
   ],
   "source": [
    "# 拼接训练和验证集，进行统计分析\r\n",
    "total = pd.concat([train,dev],axis=0)\r\n",
    "print(\"不同类别的标签数量和占比如下：\")\r\n",
    "# 得到不同类别的标签数量和占比，按照降序排列，数据类型是“pandas.core.series.Series”\r\n",
    "series_Count_desc = total['label'].value_counts()\r\n",
    "series_Ratio_desc = (train['label'].value_counts())/sum(train['label'].value_counts())\r\n",
    "# 合并不同类别的标签数量和占比，仍然是降序排列\r\n",
    "series_Info_desc = pd.concat([series_Count_desc,series_Ratio_desc],axis=1)\r\n",
    "# print(series_Info_desc)\r\n",
    "# print(series_Info_desc.keys())\r\n",
    "# 定义要进行分类的类别\r\n",
    "label_list = total.label.unique().tolist()\r\n",
    "# 建立由分类标签到ID的映射表\r\n",
    "Label_ID_map = {Val:ID for ID,Val in enumerate(label_list)}\r\n",
    "series_Info_data = pd.Series(Label_ID_map)\r\n",
    "# print(series_Info_data.keys())\r\n",
    "# 按照ID的顺序，重新排列不同类别的标签数量和占比\r\n",
    "df_Info_data = pd.concat([series_Info_data,series_Info_desc],axis=1)\r\n",
    "# 设置列名称\r\n",
    "df_Info_data.columns=['ID','Count','Ratio']\r\n",
    "print(df_Info_data)\r\n",
    "# print(type(df_Info_data))"
   ]
  },
  {
   "cell_type": "code",
   "execution_count": 8,
   "metadata": {
    "collapsed": false
   },
   "outputs": [
    {
     "name": "stdout",
     "output_type": "stream",
     "text": [
      "    ID   Count     Ratio      Weight  Weight Norm\n",
      "科技   0  162245  0.194874    5.131522     0.008467\n",
      "体育   1  130982  0.157401    6.353183     0.010482\n",
      "时政   2   62867  0.075455   13.252862     0.021867\n",
      "股票   3  153949  0.184670    5.415058     0.008935\n",
      "娱乐   4   92228  0.110792    9.025897     0.014892\n",
      "教育   5   41680  0.050159   19.936703     0.032895\n",
      "家居   6   32363  0.038976   25.657085     0.042333\n",
      "财经   7   36963  0.044372   22.536494     0.037184\n",
      "房产   8   19922  0.023981   41.699695     0.068802\n",
      "社会   9   50541  0.060820   16.442063     0.027129\n",
      "游戏  10   24283  0.029152   34.303018     0.056598\n",
      "彩票  11    7598  0.009077  110.171449     0.181778\n",
      "星座  12    3515  0.004281  233.614095     0.385452\n",
      "时尚  13   13335  0.015990   62.539146     0.103187\n"
     ]
    }
   ],
   "source": [
    "#计算损失函数不同类型的权重：占有比例的倒数，需要进行归一化\r\n",
    "series_Recip_desc = 1/series_Ratio_desc#倒数\r\n",
    "series_Weight_desc = series_Recip_desc\r\n",
    "series_WeightNorm_desc = series_Recip_desc/sum(series_Recip_desc)#归一化\r\n",
    "# print(series_Recip_desc)\r\n",
    "# print(series_Weight_desc)\r\n",
    "#合并到不同类别的标签数量和占比种\r\n",
    "df_Info_data = pd.concat([df_Info_data,series_Weight_desc],axis=1)\r\n",
    "df_Info_data = pd.concat([df_Info_data,series_WeightNorm_desc],axis=1)\r\n",
    "# 设置列名称\r\n",
    "df_Info_data.columns=['ID','Count','Ratio','Weight','Weight Norm']\r\n",
    "print(df_Info_data)"
   ]
  },
  {
   "cell_type": "code",
   "execution_count": 9,
   "metadata": {
    "collapsed": false
   },
   "outputs": [
    {
     "data": {
      "image/png": "[encoded data removed]",
      "text/plain": [
       "<Figure size 432x288 with 2 Axes>"
      ]
     },
     "metadata": {},
     "output_type": "display_data"
    }
   ],
   "source": [
    "# 全局设置解决matplotlib中文显示错误的问题，参考：https://aistudio.baidu.com/aistudio/projectdetail/1658980\r\n",
    "%matplotlib inline\r\n",
    "import matplotlib\r\n",
    "import matplotlib.pyplot as plt\r\n",
    "import matplotlib.font_manager as font_manager\r\n",
    "\r\n",
    "# 设置显示中文\r\n",
    "matplotlib.rcParams['font.sans-serif'] = ['FZSongYi-Z13S'] # 指定默认字体\r\n",
    "matplotlib.rcParams['axes.unicode_minus'] = False # 解决保存图像是负号'-'显示为方块的问题\r\n",
    "# 设置字体大小\r\n",
    "matplotlib.rcParams['font.size'] = 16\r\n",
    "\r\n",
    "# 绘制不同类型标签的分布情况(按照ID升序排列)\r\n",
    "plt.subplot2grid((2,2),(0,0),colspan=2)\r\n",
    "df_Info_data['Count'].plot(kind='bar');\r\n",
    "# 绘制不同类型标签的分布情况(按照样本数量降序排列)\r\n",
    "plt.subplot2grid((2,2),(1,0),colspan=2)\r\n",
    "series_Count_desc.plot(kind='bar');"
   ]
  },
  {
   "cell_type": "code",
   "execution_count": 12,
   "metadata": {
    "collapsed": false
   },
   "outputs": [
    {
     "name": "stdout",
     "output_type": "stream",
     "text": [
      "The length information of Train&&Dev is as follows:/n\n",
      "count    832471.000000\n",
      "mean         19.388112\n",
      "std           4.097139\n",
      "min           2.000000\n",
      "25%          17.000000\n",
      "50%          20.000000\n",
      "75%          23.000000\n",
      "max          48.000000\n",
      "Name: text_a, dtype: float64\n",
      "The length information of Test is as follows:/n\n",
      "count    83599.000000\n",
      "mean        19.815022\n",
      "std          3.883845\n",
      "min          3.000000\n",
      "25%         17.000000\n",
      "50%         20.000000\n",
      "75%         23.000000\n",
      "max         84.000000\n",
      "Name: text_a, dtype: float64\n"
     ]
    }
   ],
   "source": [
    "# 统计“训练集+验证集”的长度信息\r\n",
    "print(\"The length information of Train&&Dev is as follows:/n\")\r\n",
    "print(total['text_a'].map(len).describe())\r\n",
    "# 统计“测试集”的长度信息\r\n",
    "print(\"The length information of Test is as follows:/n\")\r\n",
    "print(test['text_a'].map(len).describe())"
   ]
  },
  {
   "cell_type": "code",
   "execution_count": 11,
   "metadata": {
    "collapsed": false
   },
   "outputs": [],
   "source": [
    "# 是否使用全部数据集（训练集+验证集）进行训练\r\n",
    "useTotalData = False\r\n",
    "# 是否使用伪标签进行训练\r\n",
    "useFakeData = False\r\n",
    "# 是否仅使用伪标签进行训练（增量学习）\r\n",
    "useFakeOnly = False\r\n",
    "if useTotalData == True:\r\n",
    "    #使用全部数据集（训练集+验证集）进行训练\r\n",
    "    train = pd.concat([train,dev],axis=0)\r\n",
    "if useFakeData == True:\r\n",
    "    #使用伪标签进行训练\r\n",
    "    train = pd.concat([train,fakeData1],axis=0)\r\n",
    "if useFakeOnly == True:\r\n",
    "    #仅使用伪标签进行训练（增量学习）\r\n",
    "    train = fakeData1\r\n",
    "# 保存处理后的数据集文件\r\n",
    "train.to_csv('train.csv', sep='\\t', index=False)  # 保存训练集，格式为text_a,label，以\\t分隔开\r\n",
    "dev.to_csv('dev.csv', sep='\\t', index=False)      # 保存验证集，格式为text_a,label，以\\t分隔开\r\n",
    "test.to_csv('test.csv', sep='\\t', index=False)    # 保存测试集，格式为text_a，以\\t分隔开"
   ]
  },
  {
   "cell_type": "markdown",
   "metadata": {
    "collapsed": false
   },
   "source": [
    "# 三.构建基于PaddleNLP的基线模型\n",
    "\n",
    "![](https://ai-studio-static-online.cdn.bcebos.com/75742955d912447c948bb679994a09039af5f85cfb554715be56c970db5ec3f6)"
   ]
  },
  {
   "cell_type": "markdown",
   "metadata": {
    "collapsed": false
   },
   "source": [
    "## 3.1 设置运行环境"
   ]
  },
  {
   "cell_type": "code",
   "execution_count": null,
   "metadata": {
    "collapsed": false
   },
   "outputs": [],
   "source": [
    "# 导入所需的第三方库\r\n",
    "import math\r\n",
    "import numpy as np\r\n",
    "import os\r\n",
    "import collections\r\n",
    "from functools import partial\r\n",
    "import random\r\n",
    "import time\r\n",
    "import inspect\r\n",
    "import importlib\r\n",
    "from tqdm import tqdm\r\n",
    "import paddle\r\n",
    "import paddle.nn as nn\r\n",
    "import paddle.nn.functional as F\r\n",
    "from paddle.io import IterableDataset\r\n",
    "from paddle.utils.download import get_path_from_url"
   ]
  },
  {
   "cell_type": "code",
   "execution_count": null,
   "metadata": {
    "collapsed": false
   },
   "outputs": [
    {
     "name": "stdout",
     "output_type": "stream",
     "text": [
      "Looking in indexes: https://pypi.tuna.tsinghua.edu.cn/simple\n",
      "Requirement already up-to-date: paddlenlp==2.1 in /opt/conda/envs/python35-paddle120-env/lib/python3.7/site-packages (2.1.0)\n",
      "Requirement already satisfied, skipping upgrade: multiprocess in /opt/conda/envs/python35-paddle120-env/lib/python3.7/site-packages (from paddlenlp==2.1) (0.70.11.1)\n",
      "Requirement already satisfied, skipping upgrade: h5py in /opt/conda/envs/python35-paddle120-env/lib/python3.7/site-packages (from paddlenlp==2.1) (2.9.0)\n",
      "Requirement already satisfied, skipping upgrade: paddlefsl==1.0.0 in /opt/conda/envs/python35-paddle120-env/lib/python3.7/site-packages (from paddlenlp==2.1) (1.0.0)\n",
      "Requirement already satisfied, skipping upgrade: colorlog in /opt/conda/envs/python35-paddle120-env/lib/python3.7/site-packages (from paddlenlp==2.1) (4.1.0)\n",
      "Requirement already satisfied, skipping upgrade: seqeval in /opt/conda/envs/python35-paddle120-env/lib/python3.7/site-packages (from paddlenlp==2.1) (1.2.2)\n",
      "Requirement already satisfied, skipping upgrade: jieba in /opt/conda/envs/python35-paddle120-env/lib/python3.7/site-packages (from paddlenlp==2.1) (0.42.1)\n",
      "Requirement already satisfied, skipping upgrade: colorama in /opt/conda/envs/python35-paddle120-env/lib/python3.7/site-packages (from paddlenlp==2.1) (0.4.4)\n",
      "Requirement already satisfied, skipping upgrade: dill>=0.3.3 in /opt/conda/envs/python35-paddle120-env/lib/python3.7/site-packages (from multiprocess->paddlenlp==2.1) (0.3.3)\n",
      "Requirement already satisfied, skipping upgrade: numpy>=1.7 in /opt/conda/envs/python35-paddle120-env/lib/python3.7/site-packages (from h5py->paddlenlp==2.1) (1.20.3)\n",
      "Requirement already satisfied, skipping upgrade: six in /opt/conda/envs/python35-paddle120-env/lib/python3.7/site-packages (from h5py->paddlenlp==2.1) (1.16.0)\n",
      "Requirement already satisfied, skipping upgrade: tqdm~=4.27.0 in /opt/conda/envs/python35-paddle120-env/lib/python3.7/site-packages (from paddlefsl==1.0.0->paddlenlp==2.1) (4.27.0)\n",
      "Requirement already satisfied, skipping upgrade: pillow==8.2.0 in /opt/conda/envs/python35-paddle120-env/lib/python3.7/site-packages (from paddlefsl==1.0.0->paddlenlp==2.1) (8.2.0)\n",
      "Requirement already satisfied, skipping upgrade: requests~=2.24.0 in /opt/conda/envs/python35-paddle120-env/lib/python3.7/site-packages (from paddlefsl==1.0.0->paddlenlp==2.1) (2.24.0)\n",
      "Requirement already satisfied, skipping upgrade: scikit-learn>=0.21.3 in /opt/conda/envs/python35-paddle120-env/lib/python3.7/site-packages (from seqeval->paddlenlp==2.1) (0.24.2)\n",
      "Requirement already satisfied, skipping upgrade: certifi>=2017.4.17 in /opt/conda/envs/python35-paddle120-env/lib/python3.7/site-packages (from requests~=2.24.0->paddlefsl==1.0.0->paddlenlp==2.1) (2019.9.11)\n",
      "Requirement already satisfied, skipping upgrade: urllib3!=1.25.0,!=1.25.1,<1.26,>=1.21.1 in /opt/conda/envs/python35-paddle120-env/lib/python3.7/site-packages (from requests~=2.24.0->paddlefsl==1.0.0->paddlenlp==2.1) (1.25.6)\n",
      "Requirement already satisfied, skipping upgrade: chardet<4,>=3.0.2 in /opt/conda/envs/python35-paddle120-env/lib/python3.7/site-packages (from requests~=2.24.0->paddlefsl==1.0.0->paddlenlp==2.1) (3.0.4)\n",
      "Requirement already satisfied, skipping upgrade: idna<3,>=2.5 in /opt/conda/envs/python35-paddle120-env/lib/python3.7/site-packages (from requests~=2.24.0->paddlefsl==1.0.0->paddlenlp==2.1) (2.8)\n",
      "Requirement already satisfied, skipping upgrade: scipy>=0.19.1 in /opt/conda/envs/python35-paddle120-env/lib/python3.7/site-packages (from scikit-learn>=0.21.3->seqeval->paddlenlp==2.1) (1.6.3)\n",
      "Requirement already satisfied, skipping upgrade: threadpoolctl>=2.0.0 in /opt/conda/envs/python35-paddle120-env/lib/python3.7/site-packages (from scikit-learn>=0.21.3->seqeval->paddlenlp==2.1) (2.1.0)\n",
      "Requirement already satisfied, skipping upgrade: joblib>=0.11 in /opt/conda/envs/python35-paddle120-env/lib/python3.7/site-packages (from scikit-learn>=0.21.3->seqeval->paddlenlp==2.1) (0.14.1)\n"
     ]
    }
   ],
   "source": [
    "# 下载paddlenlp2.1，最新版本是2.2，在后面的步骤会出现问题\r\n",
    "!pip install --upgrade paddlenlp==2.1\r\n",
    "\r\n",
    "# 导入paddlenlp所需的相关包\r\n",
    "import paddlenlp as ppnlp\r\n",
    "from paddlenlp.data import JiebaTokenizer, Pad, Stack, Tuple, Vocab\r\n",
    "from paddlenlp.datasets import MapDataset\r\n",
    "from paddle.dataset.common import md5file\r\n",
    "from paddlenlp.datasets import DatasetBuilder"
   ]
  },
  {
   "cell_type": "markdown",
   "metadata": {
    "collapsed": false
   },
   "source": [
    "## 3.2 定义要进行微调的预训练模型\n",
    "\n",
    "在预训练模型选择上，选择了不同的7个中文领域效果较优的预训练模型，采用训练集进行训练后，提交分值如下：\n",
    "\n",
    "roberta-wwm-ext-large：89.08\n",
    "\n",
    "nezha-large-wwm-chinese：88.96\n",
    "\n",
    "skep_ernie_1.0_large_ch：88.82\n",
    "\n",
    "bert-wwm-ext-chinese：88.62\n",
    "\n",
    "macbert-large-chinese：88.75\n",
    "\n",
    "huhuiwen/mengzi-bert-base：88.64\n",
    "\n",
    "junnyu/hfl-chinese-electra-180g-base-discriminator：88.28"
   ]
  },
  {
   "cell_type": "code",
   "execution_count": null,
   "metadata": {
    "collapsed": false
   },
   "outputs": [
    {
     "name": "stderr",
     "output_type": "stream",
     "text": [
      "[2022-01-20 11:12:00,457] [    INFO] - Already cached /home/aistudio/.paddlenlp/models/roberta-wwm-ext-large/roberta_chn_large.pdparams\n",
      "[2022-01-20 11:12:05,655] [    INFO] - Already cached /home/aistudio/.paddlenlp/models/roberta-wwm-ext-large/vocab.txt\n"
     ]
    }
   ],
   "source": [
    "# 使用roberta-wwm-ext-large模型\r\n",
    "MODEL_NAME = \"roberta-wwm-ext-large\"\r\n",
    "# 只需指定想要使用的模型名称和文本分类的类别数即可完成Fine-tune网络定义，通过在预训练模型后拼接上一个全连接网络（Full Connected）进行分类\r\n",
    "model = ppnlp.transformers.RobertaForSequenceClassification.from_pretrained(MODEL_NAME, num_classes=14) # 此次分类任务为14分类任务，故num_classes设置为14\r\n",
    "# 定义模型对应的tokenizer，tokenizer可以把原始输入文本转化成模型model可接受的输入数据格式。需注意tokenizer类要与选择的模型相对应，具体可以查看PaddleNLP相关文档\r\n",
    "tokenizer = ppnlp.transformers.RobertaTokenizer.from_pretrained(MODEL_NAME)"
   ]
  },
  {
   "cell_type": "code",
   "execution_count": null,
   "metadata": {
    "collapsed": false
   },
   "outputs": [],
   "source": [
    "# 使用nezha-large-wwm-chinese模型\r\n",
    "# 指定模型名称，一键加载模型\r\n",
    "#model = ppnlp.transformers.NeZhaForSequenceClassification.from_pretrained('nezha-large-wwm-chinese', num_classes=14)\r\n",
    "# 同样地，通过指定模型名称一键加载对应的Tokenizer，用于处理文本数据，如切分token，转token_id等\r\n",
    "#tokenizer = ppnlp.transformers.NeZhaTokenizer.from_pretrained('nezha-large-wwm-chinese')"
   ]
  },
  {
   "cell_type": "code",
   "execution_count": null,
   "metadata": {
    "collapsed": false
   },
   "outputs": [],
   "source": [
    "# skep_ernie_1.0_large_ch模型\r\n",
    "# 指定模型名称，一键加载模型\r\n",
    "#model = ppnlp.transformers.SkepForSequenceClassification.from_pretrained(pretrained_model_name_or_path=\"skep_ernie_1.0_large_ch\", num_classes=14)\r\n",
    "# 同样地，通过指定模型名称一键加载对应的Tokenizer，用于处理文本数据，如切分token，转token_id等\r\n",
    "#tokenizer = ppnlp.transformers.SkepTokenizer.from_pretrained(pretrained_model_name_or_path=\"skep_ernie_1.0_large_ch\")"
   ]
  },
  {
   "cell_type": "code",
   "execution_count": null,
   "metadata": {
    "collapsed": false
   },
   "outputs": [],
   "source": [
    "# 使用bert-wwm-ext-chinese模型\r\n",
    "MODEL_NAME = \"bert-wwm-ext-chinese\"\r\n",
    "# 只需指定想要使用的模型名称和文本分类的类别数即可完成Fine-tune网络定义，通过在预训练模型后拼接上一个全连接网络（Full Connected）进行分类\r\n",
    "model = ppnlp.transformers.BertForSequenceClassification.from_pretrained(MODEL_NAME, num_classes=14) # 此次分类任务为14分类任务，故num_classes设置为14\r\n",
    "# 定义模型对应的tokenizer，tokenizer可以把原始输入文本转化成模型model可接受的输入数据格式。需注意tokenizer类要与选择的模型相对应，具体可以查看PaddleNLP相关文档\r\n",
    "tokenizer = ppnlp.transformers.BertTokenizer.from_pretrained(MODEL_NAME)"
   ]
  },
  {
   "cell_type": "code",
   "execution_count": null,
   "metadata": {
    "collapsed": false
   },
   "outputs": [],
   "source": [
    "# 使用macbert-large-chinese模型\r\n",
    "#MODEL_NAME = \"macbert-large-chinese\"\r\n",
    "# 只需指定想要使用的模型名称和文本分类的类别数即可完成Fine-tune网络定义，通过在预训练模型后拼接上一个全连接网络（Full Connected）进行分类\r\n",
    "#model = ppnlp.transformers.BertForSequenceClassification.from_pretrained(MODEL_NAME, num_classes=14) # 此次分类任务为14分类任务，故num_classes设置为14\r\n",
    "# 定义模型对应的tokenizer，tokenizer可以把原始输入文本转化成模型model可接受的输入数据格式。需注意tokenizer类要与选择的模型相对应，具体可以查看PaddleNLP相关文档\r\n",
    "#tokenizer = ppnlp.transformers.BertTokenizer.from_pretrained(MODEL_NAME)"
   ]
  },
  {
   "cell_type": "code",
   "execution_count": null,
   "metadata": {
    "collapsed": false
   },
   "outputs": [],
   "source": [
    "# 使用huhuiwen/mengzi-bert-base模型\r\n",
    "#MODEL_NAME = \"huhuiwen/mengzi-bert-base\"\r\n",
    "# 只需指定想要使用的模型名称和文本分类的类别数即可完成Fine-tune网络定义，通过在预训练模型后拼接上一个全连接网络（Full Connected）进行分类\r\n",
    "#model = ppnlp.transformers.BertForSequenceClassification.from_pretrained(MODEL_NAME, num_classes=14) # 此次分类任务为14分类任务，故num_classes设置为14\r\n",
    "# 定义模型对应的tokenizer，tokenizer可以把原始输入文本转化成模型model可接受的输入数据格式。需注意tokenizer类要与选择的模型相对应，具体可以查看PaddleNLP相关文档\r\n",
    "#tokenizer = ppnlp.transformers.BertTokenizer.from_pretrained(MODEL_NAME)"
   ]
  },
  {
   "cell_type": "code",
   "execution_count": null,
   "metadata": {
    "collapsed": false
   },
   "outputs": [],
   "source": [
    "# 使用junnyu/hfl-chinese-electra-180g-base-discriminator模型\r\n",
    "# 指定模型名称，一键加载模型\r\n",
    "#model = ppnlp.transformers.ElectraForSequenceClassification.from_pretrained('junnyu/hfl-chinese-electra-180g-base-discriminator', num_classes=14)\r\n",
    "# 同样地，通过指定模型名称一键加载对应的Tokenizer，用于处理文本数据，如切分token，转token_id等\r\n",
    "#tokenizer = ppnlp.transformers.ElectraTokenizer.from_pretrained('junnyu/hfl-chinese-electra-180g-base-discriminator')"
   ]
  },
  {
   "cell_type": "markdown",
   "metadata": {
    "collapsed": false
   },
   "source": [
    "PaddleNLP不仅支持RoBERTa预训练模型，还支持ERNIE、BERT、Electra等预训练模型。具体可以查看：[PaddleNLP模型](https://paddlenlp.readthedocs.io/zh/latest/source/paddlenlp.transformers.html)\n",
    "\n",
    "下表汇总了目前PaddleNLP支持的各类预训练模型。用户可以使用PaddleNLP提供的模型，完成问答、序列分类、token分类等任务。同时还提供了22种预训练的参数权重供用户使用，其中包含了11种中文语言模型的预训练权重。\n",
    "\n",
    "| Model | Tokenizer| Supported Task| Model Name|\n",
    "|---|---|---|---|\n",
    "| [BERT](https://arxiv.org/abs/1810.04805) | BertTokenizer|BertModel<br> BertForQuestionAnswering<br> BertForSequenceClassification<br>BertForTokenClassification| `bert-base-uncased`<br> `bert-large-uncased` <br>`bert-base-multilingual-uncased` <br>`bert-base-cased`<br> `bert-base-chinese`<br> `bert-base-multilingual-cased`<br> `bert-large-cased`<br> `bert-wwm-chinese`<br> `bert-wwm-ext-chinese` |\n",
    "|[ERNIE](https://arxiv.org/abs/1904.09223)|ErnieTokenizer<br>ErnieTinyTokenizer|ErnieModel<br> ErnieForQuestionAnswering<br> ErnieForSequenceClassification<br> ErnieForTokenClassification| `ernie-1.0`<br> `ernie-tiny`<br> `ernie-2.0-en`<br> `ernie-2.0-large-en`|\n",
    "|[RoBERTa](https://arxiv.org/abs/1907.11692)|RobertaTokenizer| RobertaModel<br>RobertaForQuestionAnswering<br>RobertaForSequenceClassification<br>RobertaForTokenClassification| `roberta-wwm-ext`<br> `roberta-wwm-ext-large`<br> `rbt3`<br> `rbtl3`|\n",
    "|[ELECTRA](https://arxiv.org/abs/2003.10555) |ElectraTokenizer| ElectraModel<br>ElectraForSequenceClassification<br>ElectraForTokenClassification<br>|`electra-small`<br> `electra-base`<br> `electra-large`<br> `chinese-electra-small`<br> `chinese-electra-base`<br>|\n",
    "\n",
    "注：其中中文的预训练模型有 `bert-base-chinese, bert-wwm-chinese, bert-wwm-ext-chinese, ernie-1.0, ernie-tiny, roberta-wwm-ext, roberta-wwm-ext-large, rbt3, rbtl3, chinese-electra-base, chinese-electra-small` 等。"
   ]
  },
  {
   "cell_type": "markdown",
   "metadata": {
    "collapsed": false
   },
   "source": [
    "## 3.3 数据读取和处理"
   ]
  },
  {
   "cell_type": "code",
   "execution_count": null,
   "metadata": {
    "collapsed": false
   },
   "outputs": [],
   "source": [
    "# 定义数据集对应文件及其文件存储格式\r\n",
    "class NewsData(DatasetBuilder):\r\n",
    "    #训练集和验证集对应文件名称\r\n",
    "    SPLITS = {\r\n",
    "        'train': 'train.csv',  # 训练集\r\n",
    "        'dev': 'dev.csv',      # 验证集\r\n",
    "    }\r\n",
    "\r\n",
    "    #获取训练集和验证集的文件名称\r\n",
    "    def _get_data(self, mode, **kwargs):\r\n",
    "        filename = self.SPLITS[mode]\r\n",
    "        return filename\r\n",
    "\r\n",
    "    #从文件中读取数据\r\n",
    "    def _read(self, filename):\r\n",
    "        with open(filename, 'r', encoding='utf-8') as f:\r\n",
    "            head = None\r\n",
    "            for line in f:\r\n",
    "                data = line.strip().split(\"\\t\")    # 以'\\t'分隔各列\r\n",
    "                if not head:\r\n",
    "                    head = data\r\n",
    "                else:\r\n",
    "                    text_a, label = data\r\n",
    "                    yield {\"text_a\": text_a, \"label\": label}  # 此次设置数据的格式为：text_a,label，可以根据具体情况进行修改\r\n",
    "\r\n",
    "    #获取类别标签\r\n",
    "    def get_labels(self):\r\n",
    "        return label_list   # 类别标签"
   ]
  },
  {
   "cell_type": "code",
   "execution_count": null,
   "metadata": {
    "collapsed": false
   },
   "outputs": [],
   "source": [
    "# 定义数据集加载函数\r\n",
    "def load_dataset(name=None,\r\n",
    "                 data_files=None,\r\n",
    "                 splits=None,\r\n",
    "                 lazy=None,\r\n",
    "                 **kwargs):\r\n",
    "   \r\n",
    "    reader_cls = NewsData  # 加载定义的数据集格式\r\n",
    "    print(reader_cls)\r\n",
    "    #数据集加载实例\r\n",
    "    if not name:\r\n",
    "        reader_instance = reader_cls(lazy=lazy, **kwargs)\r\n",
    "    else:\r\n",
    "        reader_instance = reader_cls(lazy=lazy, name=name, **kwargs)\r\n",
    "    \r\n",
    "    #通过实例加载数据集\r\n",
    "    datasets = reader_instance.read_datasets(data_files=data_files, splits=splits)\r\n",
    "    return datasets"
   ]
  },
  {
   "cell_type": "code",
   "execution_count": null,
   "metadata": {
    "collapsed": false
   },
   "outputs": [
    {
     "name": "stdout",
     "output_type": "stream",
     "text": [
      "<class '__main__.NewsData'>\n"
     ]
    }
   ],
   "source": [
    "# 加载训练和验证集\r\n",
    "train_ds, dev_ds = load_dataset(splits=[\"train\", \"dev\"])"
   ]
  },
  {
   "cell_type": "code",
   "execution_count": null,
   "metadata": {
    "collapsed": false
   },
   "outputs": [],
   "source": [
    "# 定义数据加载和处理函数\r\n",
    "def convert_example(example, tokenizer, max_seq_length=128, is_test=False):\r\n",
    "    qtconcat = example[\"text_a\"]\r\n",
    "    encoded_inputs = tokenizer(text=qtconcat, max_seq_len=max_seq_length)  # tokenizer处理为模型可接受的格式 \r\n",
    "    input_ids = encoded_inputs[\"input_ids\"]\r\n",
    "    token_type_ids = encoded_inputs[\"token_type_ids\"]\r\n",
    "\r\n",
    "    #如果不是测试集，则需要返回标签\r\n",
    "    if not is_test:\r\n",
    "        label = np.array([example[\"label\"]], dtype=\"int64\")\r\n",
    "        return input_ids, token_type_ids, label\r\n",
    "    else:#测试集不需要返回标签\r\n",
    "        return input_ids, token_type_ids\r\n",
    "\r\n",
    "# 定义数据加载函数dataloader\r\n",
    "def create_dataloader(dataset,\r\n",
    "                      mode='train',\r\n",
    "                      batch_size=1,\r\n",
    "                      batchify_fn=None,\r\n",
    "                      trans_fn=None):\r\n",
    "    if trans_fn:\r\n",
    "        dataset = dataset.map(trans_fn)\r\n",
    "\r\n",
    "    shuffle = True if mode == 'train' else False\r\n",
    "    # 训练数据集随机打乱，测试数据集不打乱\r\n",
    "    if mode == 'train':\r\n",
    "        batch_sampler = paddle.io.DistributedBatchSampler(\r\n",
    "            dataset, batch_size=batch_size, shuffle=shuffle)\r\n",
    "    else:\r\n",
    "        batch_sampler = paddle.io.BatchSampler(\r\n",
    "            dataset, batch_size=batch_size, shuffle=shuffle)\r\n",
    "\r\n",
    "    return paddle.io.DataLoader(\r\n",
    "        dataset=dataset,\r\n",
    "        batch_sampler=batch_sampler,\r\n",
    "        collate_fn=batchify_fn,\r\n",
    "        return_list=True)"
   ]
  },
  {
   "cell_type": "code",
   "execution_count": null,
   "metadata": {
    "collapsed": false
   },
   "outputs": [],
   "source": [
    "# 参数设置：\r\n",
    "# 批处理大小，显存如若不足的话可以适当改小该值\r\n",
    "# 注意该场景下若使用nezha-large-wwm-chinese需将batch_size修改为256，chinese-xlnet-large修改为128，其他模型则为300。否则容易出现爆显存问题\r\n",
    "batch_size = 256\r\n",
    "# 文本序列最大截断长度，需要根据文本具体长度进行确定，最长不超过512。 通过文本长度分析可以看出文本长度最大为48，故此处设置为48\r\n",
    "max_seq_length = 48"
   ]
  },
  {
   "cell_type": "code",
   "execution_count": null,
   "metadata": {
    "collapsed": false
   },
   "outputs": [],
   "source": [
    "# 将数据处理成模型可读入的数据格式\r\n",
    "trans_func = partial(\r\n",
    "    convert_example,\r\n",
    "    tokenizer=tokenizer,\r\n",
    "    max_seq_length=max_seq_length)\r\n",
    "\r\n",
    "batchify_fn = lambda samples, fn=Tuple(\r\n",
    "    Pad(axis=0, pad_val=tokenizer.pad_token_id),  # input_ids\r\n",
    "    Pad(axis=0, pad_val=tokenizer.pad_token_type_id),  # token_type_ids\r\n",
    "    Stack()  # labels\r\n",
    "): [data for data in fn(samples)]\r\n",
    "\r\n",
    "# 训练集迭代器\r\n",
    "train_data_loader = create_dataloader(\r\n",
    "    train_ds,\r\n",
    "    mode='train',\r\n",
    "    batch_size=batch_size,\r\n",
    "    batchify_fn=batchify_fn,\r\n",
    "    trans_fn=trans_func)\r\n",
    "\r\n",
    "# 验证集迭代器\r\n",
    "dev_data_loader = create_dataloader(\r\n",
    "    dev_ds,\r\n",
    "    mode='dev',\r\n",
    "    batch_size=batch_size,\r\n",
    "    batchify_fn=batchify_fn,\r\n",
    "    trans_fn=trans_func)"
   ]
  },
  {
   "cell_type": "markdown",
   "metadata": {
    "collapsed": false
   },
   "source": [
    "## 3.4 设置Fine-Tune优化策略，接入评价指标\n",
    "\n",
    "数据分布不均衡，采用Focal Loss计算损失函数。\n",
    "为了避免模型不稳定（振荡），采用以较低学习率逐渐增大至较高学习率的方式实现网络训练的“热身”策略（WarmUp），如下：\n",
    "![](https://ai-studio-static-online.cdn.bcebos.com/96164785831147b382bfc8d54161ec8794571c1528b34fa4b126e6d3d109be3d)"
   ]
  },
  {
   "cell_type": "code",
   "execution_count": null,
   "metadata": {
    "collapsed": false
   },
   "outputs": [],
   "source": [
    "#按照Focal Loss损失函数定义计算，发现效果不如Paddle的交叉熵\r\n",
    "import paddle.nn.functional as F\r\n",
    "class MultiCEFocalLoss(nn.Layer):\r\n",
    "    #class_num：类型数量，reduction：如何处理不同类型的损失函数贡献，可以选择：平均值(mean)、总和(sum)，默认mean。\r\n",
    "    #use_softmax：是否对输入数据进行softmax处理\r\n",
    "    def __init__(self, class_num, gamma=2, alpha=None, reduction='mean',use_softmax=True):\r\n",
    "        super(MultiCEFocalLoss, self).__init__()\r\n",
    "        if alpha is None:\r\n",
    "            self.alpha = paddle.ones((class_num, 1))\r\n",
    "        elif isinstance(alpha,list):\r\n",
    "            self.alpha = paddle.to_tensor(alpha,dtype=paddle.float32)\r\n",
    "        elif isinstance(alpha,[float,int]):\r\n",
    "            self.alpha = paddle.to_tensor([alpha])\r\n",
    "  \r\n",
    "        self.gamma = gamma\r\n",
    "        self.reduction = reduction\r\n",
    "        self.class_num =  class_num\r\n",
    "        self.use_softmax = use_softmax\r\n",
    "\r\n",
    "    def forward(self, preds, labels):\r\n",
    "        #print(\"predict\",preds)\r\n",
    "        #print(\"label\",labels)\r\n",
    "        labels = labels.cast(paddle.int64)\r\n",
    "        # print(\"The dimension of preds is:\",preds.ndim)\r\n",
    "        # print(\"The dimension of labels is:\",labels.ndim)\r\n",
    "        if labels.ndim > 1:#去除labels中单值数组的维度\r\n",
    "            labels = labels.squeeze(1)\r\n",
    "        #样本中每个类型预测值构成的List\r\n",
    "        if self.use_softmax:#基于softmmax的预测概率\r\n",
    "            pt = F.softmax(preds,axis=-1)\r\n",
    "        else:\r\n",
    "            pt = preds\r\n",
    "        # print(\"Processed predict\",pt)\r\n",
    "        #样本标签的One Hot编码\r\n",
    "        class_mask = F.one_hot(labels, self.class_num)\r\n",
    "        # print(\"One hot of each Label ID\",class_mask)\r\n",
    "        #转换为1列，元素为样本标签的ID\r\n",
    "        ids = labels.reshape((-1, 1))\r\n",
    "        # print(\"Label's ID\",ids)\r\n",
    "        # print(\"Label's alpha\",self.alpha)\r\n",
    "        #样本标签类型对应权重构成的List，长度等于样本个数\r\n",
    "        alpha = self.alpha[ids.reshape((-1,1))].reshape((-1,1))\r\n",
    "        # print(\"Label's alpha of each sample\",alpha)\r\n",
    "        #样本标签类型对应预测值(来自pt)构成的List，长度等于样本个数\r\n",
    "        probs = (pt * class_mask).sum(1).reshape((-1, 1)) # 利用onehot作为mask，提取对应的pt\r\n",
    "        # print(\"Label's predict of each sample\",probs)\r\n",
    "        log_p = probs.log()\r\n",
    "        # print(\"Label's log predict of each sample\",log_p)\r\n",
    "        #融合样本标签类型的权重alpha、预测值对数log_p、动态衰减因子pow[(1-预测值), gama]，计算损失函数\r\n",
    "        loss = -alpha * (paddle.pow((1 - probs), self.gamma)) * log_p\r\n",
    "        # print(loss)\r\n",
    "        \r\n",
    "        #融合不同类型的损失函数贡献\r\n",
    "        if self.reduction == 'mean':#平均值\r\n",
    "            loss = loss.mean()\r\n",
    "        elif self.reduction == 'sum':#总和\r\n",
    "            loss = loss.sum()\r\n",
    "        return loss"
   ]
  },
  {
   "cell_type": "code",
   "execution_count": null,
   "metadata": {
    "collapsed": false
   },
   "outputs": [
    {
     "name": "stdout",
     "output_type": "stream",
     "text": [
      "11760\n"
     ]
    }
   ],
   "source": [
    "# 定义超参，loss，优化器等\r\n",
    "from paddlenlp.transformers import LinearDecayWithWarmup, CosineDecayWithWarmup\r\n",
    "\r\n",
    "# 定义训练配置参数：\r\n",
    "# 定义训练过程中的最大学习率\r\n",
    "learning_rate = 4e-5\r\n",
    "# 训练轮次\r\n",
    "epochs = 4\r\n",
    "# 学习率预热比例，用于控制“学习率-Step次数”曲线中峰值点的Step位置，此处是在整个Step的10%位置到达峰值，然后衰减。\r\n",
    "warmup_proportion = 0.1\r\n",
    "# 逐层权重衰减系数，类似模型正则项策略，避免模型过拟合\r\n",
    "weight_decay = 0.0\r\n",
    "\r\n",
    "#训练过程中总共经历的Step数量\r\n",
    "num_training_steps = len(train_data_loader) * epochs\r\n",
    "print(num_training_steps)\r\n",
    "#线性预热学习率，在开始的“warmup_proportion*num_training_steps”个Step中，学习率由0线性增加到learning_rate，然后再余弦衰减到0。\r\n",
    "lr_scheduler = CosineDecayWithWarmup(learning_rate, num_training_steps, warmup_proportion)\r\n",
    "\r\n",
    "# AdamW优化器\r\n",
    "optimizer = paddle.optimizer.AdamW(\r\n",
    "    learning_rate=lr_scheduler,\r\n",
    "    parameters=model.parameters(),\r\n",
    "    weight_decay=weight_decay,\r\n",
    "    apply_decay_param_fun=lambda x: x in [\r\n",
    "        p.name for n, p in model.named_parameters()\r\n",
    "        if not any(nd in n for nd in [\"bias\", \"norm\"])\r\n",
    "    ])\r\n",
    "\r\n",
    "#自定义Focal Loss函数\r\n",
    "#criterion = MultiCEFocalLoss(class_num=14, alpha=(df_Info_data['Weight'].values.tolist()))\r\n",
    "#交叉熵损失函数\r\n",
    "criterion = paddle.nn.CrossEntropyLoss(weight=paddle.to_tensor(df_Info_data['Weight'].values.astype(\"float32\")))\r\n",
    "#criterion = paddle.nn.CrossEntropyLoss()\r\n",
    "metric = paddle.metric.Accuracy()              # accuracy评价指标"
   ]
  },
  {
   "cell_type": "markdown",
   "metadata": {
    "collapsed": false
   },
   "source": [
    "## 3.5 模型训练与评估\n",
    "ps：模型训练时，通过观察损失函数、准确率等参数的变化情况，判断训练参数是否合适、是否产生过拟合。\n",
    "通过在终端输入nvidia-smi命令或者通过点击底部‘性能监控’选项查看显存的占用情况，适当调整好batchsize，防止显存不足导致暂停。"
   ]
  },
  {
   "cell_type": "code",
   "execution_count": null,
   "metadata": {
    "collapsed": false
   },
   "outputs": [],
   "source": [
    "# 定义模型训练验证评估函数\r\n",
    "@paddle.no_grad()\r\n",
    "def evaluate(model, criterion, metric, data_loader):\r\n",
    "    model.eval()\r\n",
    "    metric.reset()\r\n",
    "    losses = []\r\n",
    "    for batch in data_loader:\r\n",
    "        input_ids, token_type_ids, labels = batch\r\n",
    "        logits = model(input_ids, token_type_ids)\r\n",
    "        loss = criterion(logits, labels)\r\n",
    "        losses.append(loss.numpy())\r\n",
    "        correct = metric.compute(logits, labels)\r\n",
    "        metric.update(correct)\r\n",
    "        accu = metric.accumulate()\r\n",
    "    print(\"eval loss: %.5f, accu: %.5f\" % (np.mean(losses), accu))  # 输出验证集上评估效果\r\n",
    "    model.train()\r\n",
    "    metric.reset()\r\n",
    "    return accu  # 返回准确率"
   ]
  },
  {
   "cell_type": "code",
   "execution_count": null,
   "metadata": {
    "collapsed": false
   },
   "outputs": [
    {
     "data": {
      "text/plain": [
       "<paddle.fluid.core_avx.Generator at 0x7f02da321fb0>"
      ]
     },
     "execution_count": null,
     "metadata": {},
     "output_type": "execute_result"
    }
   ],
   "source": [
    "# 固定随机种子便于结果的复现\r\n",
    "seed = 1024\r\n",
    "random.seed(seed)\r\n",
    "np.random.seed(seed)\r\n",
    "paddle.seed(seed)"
   ]
  },
  {
   "cell_type": "code",
   "execution_count": null,
   "metadata": {
    "collapsed": false
   },
   "outputs": [
    {
     "name": "stdout",
     "output_type": "stream",
     "text": [
      "The best model is found in epoch: 3, batch: 8400\r"
     ]
    },
    {
     "data": {
      "image/png": "[encoded data removed]",
      "text/plain": [
       "<Figure size 432x288 with 1 Axes>"
      ]
     },
     "metadata": {},
     "output_type": "display_data"
    },
    {
     "data": {
      "text/plain": [
       "<Figure size 432x288 with 0 Axes>"
      ]
     },
     "metadata": {},
     "output_type": "display_data"
    },
    {
     "data": {
      "image/png": "[encoded data removed]",
      "text/plain": [
       "<Figure size 432x288 with 1 Axes>"
      ]
     },
     "metadata": {},
     "output_type": "display_data"
    },
    {
     "data": {
      "text/plain": [
       "<Figure size 432x288 with 0 Axes>"
      ]
     },
     "metadata": {},
     "output_type": "display_data"
    },
    {
     "data": {
      "image/png": "[encoded data removed]",
      "text/plain": [
       "<Figure size 432x288 with 1 Axes>"
      ]
     },
     "metadata": {},
     "output_type": "display_data"
    },
    {
     "data": {
      "text/plain": [
       "<Figure size 432x288 with 0 Axes>"
      ]
     },
     "metadata": {},
     "output_type": "display_data"
    },
    {
     "data": {
      "image/png": "[encoded data removed]",
      "text/plain": [
       "<Figure size 432x288 with 1 Axes>"
      ]
     },
     "metadata": {},
     "output_type": "display_data"
    },
    {
     "data": {
      "text/plain": [
       "<Figure size 432x288 with 0 Axes>"
      ]
     },
     "metadata": {},
     "output_type": "display_data"
    }
   ],
   "source": [
    "# 模型训练：\r\n",
    "import paddle.nn.functional as F\r\n",
    "import matplotlib.pyplot as plt\r\n",
    "\r\n",
    "#验证集上准确率最高模型的保存路径\r\n",
    "save_dir = \"checkpoint\"\r\n",
    "if not  os.path.exists(save_dir):\r\n",
    "    os.makedirs(save_dir)\r\n",
    "\r\n",
    "#最后1个Epoch结束后模型的保存路径\r\n",
    "save_final_dir = \"checkpoint_final\"\r\n",
    "if not  os.path.exists(save_final_dir):\r\n",
    "    os.makedirs(save_final_dir)\r\n",
    "\r\n",
    "pre_accu=0\r\n",
    "accu=0\r\n",
    "global_step = 0\r\n",
    "#记录效果更优时的Step和Epoch数值\r\n",
    "best_global_step = 0\r\n",
    "best_epoch = 0\r\n",
    "#逐个Epoch进行处理\r\n",
    "for epoch in range(1, epochs + 1):\r\n",
    "    losses = []\r\n",
    "    #逐个Step进行处理\r\n",
    "    for step, batch in enumerate(train_data_loader, start=1):\r\n",
    "        input_ids, segment_ids, labels = batch\r\n",
    "        logits = model(input_ids, segment_ids)\r\n",
    "        # print(len(logits[0]))\r\n",
    "        # print(len(labels[0]))\r\n",
    "        # print(logits)\r\n",
    "        # print(labels)\r\n",
    "        loss = criterion(logits, labels)\r\n",
    "        losses.append(loss.numpy())\r\n",
    "        probs = F.softmax(logits, axis=1)\r\n",
    "        correct = metric.compute(probs, labels)\r\n",
    "        metric.update(correct)\r\n",
    "        acc = metric.accumulate()\r\n",
    "\r\n",
    "        global_step += 1\r\n",
    "        #每隔10个Step，统计结果并输出\r\n",
    "        if global_step % 10 == 0:\r\n",
    "            print(\"global step %d, epoch: %d, batch: %d, loss: %.5f, avgLoss: %.5f, acc: %.5f\" % (global_step, epoch, step, loss, np.mean(losses), acc))\r\n",
    "        loss.backward()\r\n",
    "        optimizer.step()\r\n",
    "        lr_scheduler.step()\r\n",
    "        optimizer.clear_grad()\r\n",
    "\r\n",
    "        if useTotalData == False:\r\n",
    "            #没有使用全部数据集（训练集+验证集）进行训练，则每隔一定的批次数后进行评估，避免遗漏中间的最佳模型\r\n",
    "            if global_step % 300 == 0:\r\n",
    "                accu = evaluate(model, criterion, metric, dev_data_loader)\r\n",
    "                if accu > pre_accu:\r\n",
    "                    # 保存效果更优的模型参数\r\n",
    "                    save_param_path = os.path.join(save_dir, 'model_state.pdparams')  # 保存模型参数\r\n",
    "                    paddle.save(model.state_dict(), save_param_path)\r\n",
    "                    pre_accu=accu\r\n",
    "                    #记录效果更优时的Step和Epoch数值\r\n",
    "                    best_global_step = global_step\r\n",
    "                    best_epoch = epoch\r\n",
    "                    print(\"The best model is found in epoch: %d, batch: %d\" % (best_epoch, best_global_step))\r\n",
    "    \r\n",
    "    if useTotalData == False:\r\n",
    "        #没有使用全部数据集（训练集+验证集）进行训练，则每轮结束对验证集进行评估\r\n",
    "        accu = evaluate(model, criterion, metric, dev_data_loader)\r\n",
    "        print(accu)\r\n",
    "        if accu > pre_accu:\r\n",
    "            #保存较上一轮效果更优的模型参数\r\n",
    "            save_param_path = os.path.join(save_dir, 'model_state.pdparams')\r\n",
    "            paddle.save(model.state_dict(), save_param_path)\r\n",
    "            pre_accu=accu\r\n",
    "            #记录效果更优时的Step和Epoch数值\r\n",
    "            best_global_step = global_step\r\n",
    "            best_epoch = epoch\r\n",
    "        print(\"The best model is found in epoch: %d, batch: %d\" % (best_epoch, best_global_step))\r\n",
    "    else:#保存本轮的模型参数，避免中间宕机\r\n",
    "        save_param_path = os.path.join(save_dir, 'model_state.pdparams')\r\n",
    "        paddle.save(model.state_dict(), save_param_path)\r\n",
    "    tokenizer.save_pretrained(save_dir)\r\n",
    "\r\n",
    "    #绘制损失函数曲线\r\n",
    "    plt.figure()\r\n",
    "    #曲线标题\r\n",
    "    plt.title(\"The loss at the different step\")\r\n",
    "    #曲线X轴和Y轴名称\r\n",
    "    plt.xlabel(\"Steps\")\r\n",
    "    plt.ylabel(\"Loss\")\r\n",
    "    plt.plot(losses)\r\n",
    "    plt.figure()\r\n",
    "\r\n",
    "#最后1个Epoch结束后，保存模型\r\n",
    "save_final_param_path = os.path.join(save_final_dir, 'model_state.pdparams')\r\n",
    "paddle.save(model.state_dict(), save_final_param_path)\r\n",
    "tokenizer.save_pretrained(save_final_dir)"
   ]
  },
  {
   "cell_type": "code",
   "execution_count": null,
   "metadata": {
    "collapsed": false
   },
   "outputs": [
    {
     "name": "stdout",
     "output_type": "stream",
     "text": [
      "Loaded parameters from checkpoint_final/model_state.pdparams\n"
     ]
    }
   ],
   "source": [
    "# 加载在验证集上效果最优的一轮的模型参数\r\n",
    "import os\r\n",
    "import paddle\r\n",
    "\r\n",
    "params_path = 'checkpoint_final/model_state.pdparams'\r\n",
    "if params_path and os.path.isfile(params_path):\r\n",
    "    # 加载模型参数\r\n",
    "    state_dict = paddle.load(params_path)\r\n",
    "    model.set_dict(state_dict)\r\n",
    "    print(\"Loaded parameters from %s\" % params_path)"
   ]
  },
  {
   "cell_type": "code",
   "execution_count": null,
   "metadata": {
    "collapsed": false
   },
   "outputs": [
    {
     "name": "stdout",
     "output_type": "stream",
     "text": [
      "eval loss: 0.06091, accu: 0.96970\n"
     ]
    },
    {
     "data": {
      "text/plain": [
       "0.9697"
      ]
     },
     "execution_count": null,
     "metadata": {},
     "output_type": "execute_result"
    }
   ],
   "source": [
    "# 测试最优模型参数在验证集上的分数\r\n",
    "evaluate(model, criterion, metric, dev_data_loader)"
   ]
  },
  {
   "cell_type": "markdown",
   "metadata": {
    "collapsed": false
   },
   "source": [
    "## 3.6 模型预测"
   ]
  },
  {
   "cell_type": "code",
   "execution_count": null,
   "metadata": {
    "collapsed": false
   },
   "outputs": [
    {
     "name": "stdout",
     "output_type": "stream",
     "text": [
      "{0: '科技', 1: '体育', 2: '时政', 3: '股票', 4: '娱乐', 5: '教育', 6: '家居', 7: '财经', 8: '房产', 9: '社会', 10: '游戏', 11: '彩票', 12: '星座', 13: '时尚'}\n"
     ]
    }
   ],
   "source": [
    "# 定义要进行分类的类别\r\n",
    "label_list = train.label.unique().tolist()\r\n",
    "label_map = { \r\n",
    "    idx: label_text for idx, label_text in enumerate(label_list)\r\n",
    "}\r\n",
    "print(label_map)"
   ]
  },
  {
   "cell_type": "code",
   "execution_count": null,
   "metadata": {
    "collapsed": false
   },
   "outputs": [],
   "source": [
    "# 定义模型预测函数\r\n",
    "def predict(model, data, tokenizer, label_map, batch_size=1):\r\n",
    "    examples = []\r\n",
    "    # 将输入数据（list格式）处理为模型可接受的格式\r\n",
    "    for text in data:\r\n",
    "        input_ids, segment_ids = convert_example(\r\n",
    "            text,\r\n",
    "            tokenizer,\r\n",
    "            max_seq_length=128,\r\n",
    "            is_test=True)\r\n",
    "        examples.append((input_ids, segment_ids))\r\n",
    "\r\n",
    "    batchify_fn = lambda samples, fn=Tuple(\r\n",
    "        Pad(axis=0, pad_val=tokenizer.pad_token_id),  # input id\r\n",
    "        Pad(axis=0, pad_val=tokenizer.pad_token_id),  # segment id\r\n",
    "    ): fn(samples)\r\n",
    "\r\n",
    "    # 将数据集分割为多个批次(Batch)，保存在batches中\r\n",
    "    batches = []\r\n",
    "    one_batch = []\r\n",
    "    #逐个处理样本\r\n",
    "    for example in examples:\r\n",
    "        #将每个样本添加到one_batch中，如果个数增加到batch size，那么做为1个批次添加到batches中\r\n",
    "        one_batch.append(example)\r\n",
    "        if len(one_batch) == batch_size:\r\n",
    "            batches.append(one_batch)\r\n",
    "            one_batch = []\r\n",
    "    if one_batch:\r\n",
    "        #处理最后1个one_batch的元素个数小于batch size的特殊情况\r\n",
    "        batches.append(one_batch)\r\n",
    "\r\n",
    "    results = []\r\n",
    "    model.eval()\r\n",
    "    #逐批次处理数据\r\n",
    "    for batch in batches:\r\n",
    "        input_ids, segment_ids = batchify_fn(batch)\r\n",
    "        input_ids = paddle.to_tensor(input_ids)\r\n",
    "        segment_ids = paddle.to_tensor(segment_ids)\r\n",
    "        logits = model(input_ids, segment_ids)\r\n",
    "        probs = F.softmax(logits, axis=1)\r\n",
    "        idx = paddle.argmax(probs, axis=1).numpy()\r\n",
    "        idx = idx.tolist()\r\n",
    "        labels = [label_map[i] for i in idx]\r\n",
    "        results.extend(labels)\r\n",
    "    return results  # 返回预测结果\r\n",
    "\r\n",
    "# 定义对数据的预处理函数,处理为模型输入指定list格式\r\n",
    "def preprocess_prediction_data(data):\r\n",
    "    examples = []\r\n",
    "    for text_a in data:\r\n",
    "        examples.append({\"text_a\": text_a})\r\n",
    "    return examples\r\n",
    "\r\n",
    "# 将list格式的预测结果存储为txt文件，提交格式要求：每行一个类别\r\n",
    "def write_results(labels, file_path):\r\n",
    "    with open(file_path, \"w\", encoding=\"utf8\") as f:\r\n",
    "        f.writelines(\"\\n\".join(labels))"
   ]
  },
  {
   "cell_type": "code",
   "execution_count": null,
   "metadata": {
    "collapsed": false
   },
   "outputs": [],
   "source": [
    "# 读取要进行预测的测试集文件\r\n",
    "test = pd.read_csv('./test.csv',sep='\\t')\r\n",
    "\r\n",
    "# 对测试集数据进行格式处理\r\n",
    "test_data = list(test.text_a)\r\n",
    "test_example = preprocess_prediction_data(test_data)"
   ]
  },
  {
   "cell_type": "code",
   "execution_count": null,
   "metadata": {
    "collapsed": false
   },
   "outputs": [],
   "source": [
    "# 对测试集进行预测\r\n",
    "results = predict(model, test_example, tokenizer, label_map, batch_size=16) "
   ]
  },
  {
   "cell_type": "code",
   "execution_count": null,
   "metadata": {
    "collapsed": false
   },
   "outputs": [],
   "source": [
    "#保存预测结果为符合格式要求的txt文件\r\n",
    "write_results(results, \"./result.txt\")\r\n",
    "#压缩为zip文件\r\n",
    "!zip 'submission.zip' 'result.txt'\r\n",
    "!cp -r submission.zip /home/aistudio/"
   ]
  },
  {
   "cell_type": "markdown",
   "metadata": {
    "collapsed": false
   },
   "source": [
    "# 四.集成学习\n",
    "采用投票法，将多个模型的结果融合为单个结果，消除不一致性\n",
    "\n",
    "按照等权重融合7个模型的结果，提交结果的分值：0.89494\n",
    "\n",
    "采用权重158、146、132、112、125、114、78融合7个模型的结果，提交结果的分值：0.89527"
   ]
  },
  {
   "cell_type": "code",
   "execution_count": 17,
   "metadata": {
    "collapsed": false
   },
   "outputs": [
    {
     "name": "stdout",
     "output_type": "stream",
     "text": [
      "{'科技': 0, '体育': 1, '时政': 2, '股票': 3, '娱乐': 4, '教育': 5, '家居': 6, '财经': 7, '房产': 8, '社会': 9, '游戏': 10, '彩票': 11, '星座': 12, '时尚': 13}\n"
     ]
    }
   ],
   "source": [
    "#计算结果相关性时，label列只能是ID，所以需要把原先的name转换为ID\r\n",
    "#建立由分类标签到ID的映射表\r\n",
    "label_ID_map = {Val:ID for ID,Val in enumerate(label_list)}\r\n",
    "print(label_ID_map)"
   ]
  },
  {
   "cell_type": "code",
   "execution_count": 18,
   "metadata": {
    "collapsed": false
   },
   "outputs": [],
   "source": [
    "#由于预测结果文件每行只有label，需要进行预处理，生成若干文件\r\n",
    "#predfile: 保存模型预测结果生成的文件，仅有label列\r\n",
    "#label_ID_map：由分类标签到ID的映射表，weight：结果文件的权重\r\n",
    "#resultfile：将predfile添加列（'id','label'）后的结果文件\r\n",
    "#resultIDfile：将resultfile的分类标签转换为ID后的结果文件\r\n",
    "def preprocess_prediction_file(predfile, label_ID_map, weight, resultfile, resultIDfile):\r\n",
    "    dftab = pd.read_table(predfile,header=None)\r\n",
    "    dftab.columns = ['label']\r\n",
    "    #为数据添加id索引\r\n",
    "    lst_ID = []\r\n",
    "    for i in range(1,len(dftab) + 1):\r\n",
    "        lst_ID.append(i)\r\n",
    "    id = pd.DataFrame(lst_ID)\r\n",
    "    dftab['id'] = id\r\n",
    "    \r\n",
    "    #由ID和Label构成的DataFrame\r\n",
    "    dftab = dftab[['id','label']]\r\n",
    "    #保存结果\r\n",
    "    dftab.to_csv(resultfile, index=False)\r\n",
    "    #名称带有权重的结果文件\r\n",
    "    resultWeightfile = \"_w\" + str(int(weight)) + \"_\" + resultfile\r\n",
    "    dftab.to_csv(resultWeightfile, index=False)\r\n",
    "\r\n",
    "    #为数据添加标签ID\r\n",
    "    lst_LabelID = []\r\n",
    "    for i in range(1,len(dftab) + 1):\r\n",
    "        lst_LabelID.append(label_ID_map[dftab['label'][i-1]])\r\n",
    "    labelID = pd.DataFrame(lst_LabelID)\r\n",
    "    dftab['labelID'] = labelID\r\n",
    "\r\n",
    "    #由ID和LabelID构成的DataFrame\r\n",
    "    dfIDtab = dftab[['id','labelID']]\r\n",
    "    #保存结果\r\n",
    "    dfIDtab.to_csv(resultIDfile, index=False)"
   ]
  },
  {
   "cell_type": "code",
   "execution_count": 22,
   "metadata": {
    "collapsed": false
   },
   "outputs": [
    {
     "name": "stdout",
     "output_type": "stream",
     "text": [
      "/home/aistudio/merge_result\n",
      "rm: cannot remove '*.csv': No such file or directory\r\n"
     ]
    }
   ],
   "source": [
    "%cd /home/aistudio/merge_result/\r\n",
    "#清除已有的csv文件\r\n",
    "!rm *.csv"
   ]
  },
  {
   "cell_type": "code",
   "execution_count": 23,
   "metadata": {
    "collapsed": false
   },
   "outputs": [],
   "source": [
    "#对模型预测结果文件进行预处理\r\n",
    "preprocess_prediction_file(\"./result89.08.txt\", label_ID_map, 158, \"method1.csv\", \"method1_ID.csv\")\r\n",
    "preprocess_prediction_file(\"./result88.96.txt\", label_ID_map, 146, \"method2.csv\", \"method2_ID.csv\")\r\n",
    "preprocess_prediction_file(\"./result88.82.txt\", label_ID_map, 132, \"method3.csv\", \"method3_ID.csv\")\r\n",
    "preprocess_prediction_file(\"./result88.62.txt\", label_ID_map, 112, \"method4.csv\", \"method4_ID.csv\")\r\n",
    "preprocess_prediction_file(\"./result88.75.txt\", label_ID_map, 125, \"method5.csv\", \"method5_ID.csv\")\r\n",
    "preprocess_prediction_file(\"./result88.64.txt\", label_ID_map, 114, \"method6.csv\", \"method6_ID.csv\")\r\n",
    "preprocess_prediction_file(\"./result88.28.txt\", label_ID_map, 78, \"method7.csv\", \"method7_ID.csv\")"
   ]
  },
  {
   "cell_type": "code",
   "execution_count": 25,
   "metadata": {
    "collapsed": false
   },
   "outputs": [
    {
     "name": "stdout",
     "output_type": "stream",
     "text": [
      "Finding correlation between: ./method1_ID.csv and ./method2_ID.csv\n",
      "Column to be measured: labelID\n",
      "Pearson's correlation score: 0.9269307860693886\n",
      "Kendall's correlation score: 0.9219420409220379\n",
      "Spearman's correlation score: 0.9367103330656568\n"
     ]
    }
   ],
   "source": [
    "# 计算结果的相关性\r\n",
    "!python correlations.py \"./method1_ID.csv\" \"./method2_ID.csv\""
   ]
  },
  {
   "cell_type": "code",
   "execution_count": 26,
   "metadata": {
    "collapsed": false
   },
   "outputs": [
    {
     "name": "stdout",
     "output_type": "stream",
     "text": [
      "parsing: ./method3.csv\n",
      "parsing: ./method2.csv\n",
      "parsing: ./method1.csv\n",
      "parsing: ./method5.csv\n",
      "parsing: ./method7.csv\n",
      "parsing: ./method4.csv\n",
      "parsing: ./method6.csv\n",
      "wrote to ./merge.csv\n",
      "parsing: ./_w78_method7.csv\n",
      "Using weight: 78\n",
      "parsing: ./_w146_method2.csv\n",
      "Using weight: 146\n",
      "parsing: ./_w112_method4.csv\n",
      "Using weight: 112\n",
      "parsing: ./_w158_method1.csv\n",
      "Using weight: 158\n",
      "parsing: ./_w125_method5.csv\n",
      "Using weight: 125\n",
      "parsing: ./_w132_method3.csv\n",
      "Using weight: 132\n",
      "parsing: ./_w114_method6.csv\n",
      "Using weight: 114\n",
      "wrote to ./merge_weight.csv\n"
     ]
    }
   ],
   "source": [
    "# 等权重投票融合\r\n",
    "!python kaggle_vote.py \"./method?.csv\" \"./merge.csv\"\r\n",
    "# 加权投票融合\r\n",
    "!python kaggle_vote.py \"./_w*.csv\" \"./merge_weight.csv\" \"weighted\""
   ]
  },
  {
   "cell_type": "code",
   "execution_count": 27,
   "metadata": {
    "collapsed": false
   },
   "outputs": [
    {
     "name": "stdout",
     "output_type": "stream",
     "text": [
      "  adding: result.txt (deflated 89%)\r\n"
     ]
    }
   ],
   "source": [
    "# 由于融合产生的结果不符合格式要求故还需要进行下简单的格式处理\r\n",
    "# df1 = pd.read_csv('./_w4_method1.csv')\r\n",
    "# df2 = pd.read_csv('./merge_weight.csv')\r\n",
    "df1 = pd.read_csv('./method1.csv')\r\n",
    "df2 = pd.read_csv('./merge.csv')\r\n",
    "# 将筛选出来的填充到新的表上，主要解决id乱序了的问题\r\n",
    "df1['label'] = df1['id'].map(df2.set_index('id')['label'])\r\n",
    "df1 = df1['label']\r\n",
    "# 保存预测结果文件\r\n",
    "df1.to_csv('result.txt',index=False,header=None)\r\n",
    "# 将结果文件压缩为zip文件\r\n",
    "!zip 'result.zip' 'result.txt'"
   ]
  },
  {
   "cell_type": "markdown",
   "metadata": {
    "collapsed": false
   },
   "source": [
    "# 五.直推学习\n",
    "采用直推学习，将高质量测试集转换为训练集，提高有效样本数量\n",
    "\n",
    "根据直推学习生成的伪标签，通过两次训练，提交结果分值为：90.01和90.06447。"
   ]
  },
  {
   "cell_type": "code",
   "execution_count": 28,
   "metadata": {
    "collapsed": false
   },
   "outputs": [],
   "source": [
    "#由于预测结果文件每行只有label，需要添加ID索引\r\n",
    "#predfile: 保存模型预测结果生成的文件，仅有label列\r\n",
    "#resultfile：将predfile添加列（'id','label'）后的结果文件\r\n",
    "def addIDIndex_prediction_file(predfile, resultfile):\r\n",
    "    dftab = pd.read_table(predfile,header=None)\r\n",
    "    dftab.columns = ['label']\r\n",
    "    #为数据添加id索引\r\n",
    "    lst_ID = []\r\n",
    "    for i in range(1,len(dftab) + 1):\r\n",
    "        lst_ID.append(i)\r\n",
    "    id = pd.DataFrame(lst_ID)\r\n",
    "    dftab['id'] = id\r\n",
    "    \r\n",
    "    #由ID和Label构成的DataFrame\r\n",
    "    dftab = dftab[['id','label']]\r\n",
    "    #保存结果\r\n",
    "    dftab.to_csv(resultfile, index=False)"
   ]
  },
  {
   "cell_type": "code",
   "execution_count": 29,
   "metadata": {
    "collapsed": false
   },
   "outputs": [],
   "source": [
    "#将由列（'id','label'）构成的文件转换为KV表（'id'：'label'）\r\n",
    "def iDLabelFile2KVTable(iDLabelFile):\r\n",
    "    result_file = open(iDLabelFile,'r',encoding='utf-8')\r\n",
    "    result_reader = csv.reader(result_file)\r\n",
    "    KVTab = {}\r\n",
    "    #逐行进行转换\r\n",
    "    for rows in result_reader:\r\n",
    "        KVTab[rows[0]] = rows[1].encode('utf-8').decode('utf-8')\r\n",
    "    return KVTab"
   ]
  },
  {
   "cell_type": "code",
   "execution_count": 30,
   "metadata": {
    "collapsed": false
   },
   "outputs": [
    {
     "name": "stdout",
     "output_type": "stream",
     "text": [
      "/home/aistudio/fake_data\n",
      "rm: cannot remove '*.csv': No such file or directory\r\n"
     ]
    }
   ],
   "source": [
    "%cd /home/aistudio/fake_data/\r\n",
    "#清除已有的csv文件\r\n",
    "!rm *.csv"
   ]
  },
  {
   "cell_type": "code",
   "execution_count": 31,
   "metadata": {
    "collapsed": false
   },
   "outputs": [],
   "source": [
    "#对模型预测结果文件进行预处理\r\n",
    "addIDIndex_prediction_file(\"./result89.08.txt\", \"method1.csv\")\r\n",
    "addIDIndex_prediction_file(\"./result88.96.txt\", \"method2.csv\")\r\n",
    "addIDIndex_prediction_file(\"./result88.82.txt\", \"method3.csv\")\r\n",
    "addIDIndex_prediction_file(\"./result88.62.txt\", \"method4.csv\")\r\n",
    "addIDIndex_prediction_file(\"./result88.75.txt\", \"method5.csv\")\r\n",
    "addIDIndex_prediction_file(\"./result88.64.txt\", \"method6.csv\")\r\n",
    "addIDIndex_prediction_file(\"./result88.28.txt\", \"method7.csv\")"
   ]
  },
  {
   "cell_type": "code",
   "execution_count": 32,
   "metadata": {
    "collapsed": false
   },
   "outputs": [
    {
     "name": "stderr",
     "output_type": "stream",
     "text": [
      "/opt/conda/envs/python35-paddle120-env/lib/python3.7/site-packages/ipykernel_launcher.py:23: UserWarning: Boolean Series key will be reindexed to match DataFrame index.\n"
     ]
    }
   ],
   "source": [
    "import csv\r\n",
    "import numpy as np\r\n",
    "import pandas as pd\r\n",
    "#将由列（'id','label'）构成的文件转换为KV表（'id'：'label'）\r\n",
    "f1 = iDLabelFile2KVTable('method1.csv')\r\n",
    "f2 = iDLabelFile2KVTable('method2.csv')\r\n",
    "f3 = iDLabelFile2KVTable('method3.csv')\r\n",
    "f4 = iDLabelFile2KVTable('method1.csv')\r\n",
    "f5 = iDLabelFile2KVTable('method2.csv')\r\n",
    "f6 = iDLabelFile2KVTable('method3.csv')\r\n",
    "f7 = iDLabelFile2KVTable('method3.csv')\r\n",
    "\r\n",
    "# 选取多个模型预测结果相同的部分\r\n",
    "x1 = set(f1.items()).intersection(set(f2.items())).intersection(set(f3.items()))\r\n",
    "x2 = set(f4.items()).intersection(set(f5.items())).intersection(set(f6.items()))\r\n",
    "x3 = set(f7.items())\r\n",
    "x = x1.intersection(x2.intersection(x3))\r\n",
    "x = pd.DataFrame(x)\r\n",
    "x.columns = [\"id\", \"label\"]\r\n",
    "# print(x)\r\n",
    "df1 = pd.read_csv('method1.csv')\r\n",
    "# print(df1['label'])\r\n",
    "x[~df1['label'].isin(['label'])]\r\n",
    "\r\n",
    "# 拼接text_a,label为标签数据\r\n",
    "t1 = x\r\n",
    "t2 = pd.read_table('./test.txt',header=None)\r\n",
    "t2.columns = [\"text_a\"]\r\n",
    "# 添加id索引\r\n",
    "list = []\r\n",
    "for i in range(1,83600):\r\n",
    "    list.append(i)\r\n",
    "id = pd.DataFrame(list)\r\n",
    "t2['id'] = id\r\n",
    "t2 = t2[['id','text_a']]\r\n",
    "\r\n",
    "t1['id'] = t1['id'].astype(str)\r\n",
    "t1['label'] = t1['label'].astype(str)\r\n",
    "t2['id'] = t2['id'].astype(str)\r\n",
    "t2['text_a'] = t2['text_a'].astype(str)\r\n",
    "\r\n",
    "t3 = pd.merge(t1, t2[['id', 'text_a']], on='id', how='left')\r\n",
    "t3 = t3[['text_a','label']]\r\n",
    "t3.to_csv('fakeData1.csv',index=False,sep=',')"
   ]
  },
  {
   "cell_type": "markdown",
   "metadata": {
    "collapsed": false
   },
   "source": [
    "请点击[此处](https://ai.baidu.com/docs#/AIStudio_Project_Notebook/a38e5576)查看本环境基本用法.  <br>\n",
    "Please click [here ](https://ai.baidu.com/docs#/AIStudio_Project_Notebook/a38e5576) for more detailed instructions. "
   ]
  }
 ],
 "metadata": {
  "kernelspec": {
   "display_name": "Python 3",
   "language": "python",
   "name": "py35-paddle1.2.0"
  },
  "language_info": {
   "codemirror_mode": {
    "name": "ipython",
    "version": 3
   },
   "file_extension": ".py",
   "mimetype": "text/x-python",
   "name": "python",
   "nbconvert_exporter": "python",
   "pygments_lexer": "ipython3",
   "version": "3.7.4"
  }
 },
 "nbformat": 4,
 "nbformat_minor": 1
}
